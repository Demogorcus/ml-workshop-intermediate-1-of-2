{
 "cells": [
  {
   "cell_type": "code",
   "execution_count": null,
   "metadata": {},
   "outputs": [],
   "source": [
    "import matplotlib.pyplot as plt\n",
    "from matplotlib.patches import Patch\n",
    "import numpy as np\n",
    "import seaborn as sns\n",
    "import numpy as np\n",
    "import pandas as pd\n",
    "plt.rcParams[\"savefig.dpi\"] = 300\n",
    "plt.rcParams[\"savefig.bbox\"] = 'tight'"
   ]
  },
  {
   "cell_type": "code",
   "execution_count": null,
   "metadata": {},
   "outputs": [],
   "source": [
    "from sklearn.model_selection import (TimeSeriesSplit, KFold, ShuffleSplit,\n",
    "                                     StratifiedKFold, GroupShuffleSplit,\n",
    "                                     GroupKFold, StratifiedShuffleSplit)\n",
    "import numpy as np\n",
    "import matplotlib.pyplot as plt\n",
    "from matplotlib.patches import Patch\n",
    "rng = np.random.RandomState(42)\n",
    "cmap_data = plt.cm.Paired\n",
    "cmap_cv = plt.cm.coolwarm\n",
    "n_splits = 4"
   ]
  },
  {
   "cell_type": "code",
   "execution_count": null,
   "metadata": {},
   "outputs": [],
   "source": [
    "# Generate the class/group data\n",
    "n_points = 100\n",
    "X = rng.randn(100, 10)\n",
    "\n",
    "percentiles_classes = [.1, .3, .6]\n",
    "y = np.hstack([[ii] * int(100 * perc)\n",
    "               for ii, perc in enumerate(percentiles_classes)])\n",
    "\n",
    "group_prior = rng.dirichlet([2]*10)\n",
    "rng.multinomial(100, group_prior)\n",
    "groups = np.repeat(np.arange(10), rng.multinomial(100, group_prior))"
   ]
  },
  {
   "cell_type": "code",
   "execution_count": null,
   "metadata": {},
   "outputs": [],
   "source": [
    "def plot_cv_indices(cv, X, y, group, ax, lw=2, show_groups=False, s=700, legend=True):\n",
    "    \"\"\"Create a sample plot for indices of a cross-validation object.\"\"\"\n",
    "    n_splits = cv.get_n_splits(X, y, group)\n",
    "\n",
    "    # Generate the training/testing visualizations for each CV split\n",
    "    for ii, (tr, tt) in enumerate(cv.split(X=X, y=y, groups=group)):\n",
    "        # Fill in indices with the training/test groups\n",
    "        indices = np.array([np.nan] * len(X))\n",
    "        indices[tt] = 1\n",
    "        indices[tr] = 0\n",
    "\n",
    "        # Visualize the results\n",
    "        ax.scatter([n_splits - ii - 1] * len(indices), range(len(indices)),\n",
    "                   c=indices, marker='_', lw=lw, cmap=cmap_cv,\n",
    "                   vmin=-.2, vmax=1.2, s=s)\n",
    "\n",
    "    # Plot the data classes and groups at the end\n",
    "    ax.scatter([-1] * len(X), range(len(X)), \n",
    "               c=y, marker='_', lw=lw, cmap=cmap_data, s=s)\n",
    "    yticklabels = ['class'] + list(range(1, n_splits + 1))\n",
    "    \n",
    "    if show_groups:\n",
    "        ax.scatter([-2] * len(X), range(len(X)), \n",
    "                   c=group, marker='_', lw=lw, cmap=cmap_data, s=s)\n",
    "        yticklabels.insert(0, 'group')\n",
    "\n",
    "    # Formatting\n",
    "    ax.set(xticks=np.arange(-1 - show_groups, n_splits), xticklabels=yticklabels,\n",
    "            ylabel='Sample index', xlabel=\"CV iteration\",\n",
    "            xlim=[-1.5 - show_groups, n_splits+.2], ylim=[-6, 100])\n",
    "    ax.set_title('{}'.format(type(cv).__name__), fontsize=15)\n",
    "    if legend:\n",
    "        ax.legend([Patch(color=cmap_cv(.8)), Patch(color=cmap_cv(.2))],\n",
    "                  ['Validation set', 'Training set'], loc=(1.02, .8))\n",
    "    ax.spines['top'].set_visible(False)\n",
    "    ax.spines['right'].set_visible(False)\n",
    "    ax.spines['left'].set_visible(False)\n",
    "    ax.spines['bottom'].set_visible(False)\n",
    "    ax.set_yticks(())\n",
    "    return ax"
   ]
  },
  {
   "cell_type": "code",
   "execution_count": null,
   "metadata": {},
   "outputs": [],
   "source": [
    "from sklearn.model_selection import KFold\n",
    "fig, ax = plt.subplots(figsize=(4, 3))\n",
    "cv = KFold(5)\n",
    "plot_cv_indices(cv, X, y, groups, ax, s=700)\n",
    "plt.savefig(\"images/kfold_cv.svg\")"
   ]
  },
  {
   "cell_type": "code",
   "execution_count": null,
   "metadata": {},
   "outputs": [],
   "source": [
    "fig, ax = plt.subplots(figsize=(4, 3))\n",
    "cv = StratifiedKFold(5)\n",
    "plot_cv_indices(cv, X, y, groups, ax, s=700)\n",
    "ax.set_ylim((-6, 100))\n",
    "plt.savefig(\"images/stratified_cv.svg\")"
   ]
  },
  {
   "cell_type": "code",
   "execution_count": null,
   "metadata": {},
   "outputs": [],
   "source": [
    "fig, ax = plt.subplots(figsize=(6, 3))\n",
    "cv = ShuffleSplit(8, test_size=.2)\n",
    "plot_cv_indices(cv, X, y, groups, ax, n_splits, s=700)\n",
    "ax.legend([Patch(color=cmap_cv(.8)), Patch(color=cmap_cv(.2))],\n",
    "          ['Validation set', 'Training set'], loc=(.95, .8))\n",
    "plt.savefig(\"images/shuffle_split_cv.svg\")"
   ]
  },
  {
   "cell_type": "code",
   "execution_count": null,
   "metadata": {},
   "outputs": [],
   "source": [
    "n_points = 100\n",
    "rng = np.random.RandomState(42)\n",
    "X = rng.randn(100, 10)\n",
    "\n",
    "percentiles_classes = [.1, .3, .6]\n",
    "y = np.hstack([[ii] * int(100 * perc)\n",
    "               for ii, perc in enumerate(percentiles_classes)])\n",
    "\n",
    "group_prior = rng.dirichlet([2]*10)\n",
    "rng.multinomial(100, group_prior)\n",
    "groups = np.repeat(np.arange(10), rng.multinomial(100, group_prior))"
   ]
  },
  {
   "cell_type": "code",
   "execution_count": null,
   "metadata": {},
   "outputs": [],
   "source": [
    "from sklearn.model_selection import RepeatedStratifiedKFold\n",
    "from matplotlib.patches import Rectangle\n",
    "\n",
    "fig, ax = plt.subplots(figsize=(8, 3))\n",
    "cv = RepeatedStratifiedKFold(n_splits=5, n_repeats=3)\n",
    "plot_cv_indices(cv, X, y, groups, ax, lw=2, s=400, legend=False)\n",
    "ax.set_ylim((-6, 102))\n",
    "xticklabels = [\"class\"] + [f\"{repeat}x{split}\" for repeat in range(1, 4) for split in range(1, 6)]\n",
    "ax.set_xticklabels(xticklabels)\n",
    "for i in range(3):\n",
    "    rect = Rectangle((-.5 + i * 5, -2.), 5, 103, edgecolor='k', facecolor='none')\n",
    "    ax.add_artist(rect)\n",
    "    \n",
    "plt.savefig(\"images/repeated_stratified_kfold.svg\")"
   ]
  },
  {
   "cell_type": "code",
   "execution_count": null,
   "metadata": {},
   "outputs": [],
   "source": [
    "fig, ax = plt.subplots(figsize=(4, 3))\n",
    "cv = GroupKFold(5)\n",
    "plot_cv_indices(cv, X, y, groups, ax, s=700, show_groups=True)\n",
    "ax.set_ylim((-6, 100))\n",
    "plt.savefig(\"images/group_kfold.svg\")"
   ]
  },
  {
   "cell_type": "code",
   "execution_count": null,
   "metadata": {},
   "outputs": [],
   "source": []
  },
  {
   "cell_type": "code",
   "execution_count": null,
   "metadata": {},
   "outputs": [],
   "source": [
    "from sklearn.utils import shuffle\n",
    "fig, ax = plt.subplots(figsize=(4, 3))\n",
    "cv = TimeSeriesSplit(5, max_train_size=20)\n",
    "plot_cv_indices(cv, X, shuffle(y), groups, ax, s=700, lw=2)\n",
    "ax.set_ylim((-6, 100))\n",
    "ax.set_title(\"TimeSeriesSplit(5, max_train_size=20)\")\n",
    "plt.savefig(\"images/time_series_walk_forward_cv.svg\")"
   ]
  },
  {
   "cell_type": "code",
   "execution_count": null,
   "metadata": {},
   "outputs": [],
   "source": [
    "fig, ax = plt.subplots(figsize=(4, 3))\n",
    "cv = TimeSeriesSplit(5)\n",
    "plot_cv_indices(cv, X, shuffle(y), groups, ax, s=700, lw=2)\n",
    "ax.set_ylim((-6, 100))\n",
    "plt.savefig(\"images/time_series_cv.svg\")"
   ]
  },
  {
   "cell_type": "code",
   "execution_count": null,
   "metadata": {},
   "outputs": [],
   "source": [
    "import matplotlib.pyplot as plt\n",
    "from matplotlib.patches import Patch\n",
    "import numpy as np\n",
    "import seaborn as sns\n",
    "import numpy as np\n",
    "import pandas as pd\n",
    "plt.rcParams[\"savefig.dpi\"] = 300\n",
    "plt.rcParams[\"savefig.bbox\"] = 'tight'\n",
    "import warnings\n",
    "warnings.simplefilter('ignore', (FutureWarning, DeprecationWarning))\n",
    "sns.set_theme(context=\"notebook\", font_scale=1.4,\n",
    "              rc={\"figure.figsize\": [10, 6]})"
   ]
  },
  {
   "cell_type": "code",
   "execution_count": null,
   "metadata": {},
   "outputs": [],
   "source": [
    "def plot_cv_indices(cv, X, y, group, ax, lw=2, show_groups=False, s=700, legend=True):\n",
    "    \"\"\"Create a sample plot for indices of a cross-validation object.\"\"\"\n",
    "    n_splits = cv.get_n_splits(X, y, group)\n",
    "\n",
    "    # Generate the training/testing visualizations for each CV split\n",
    "    for ii, (tr, tt) in enumerate(cv.split(X=X, y=y, groups=group)):\n",
    "        # Fill in indices with the training/test groups\n",
    "        indices = np.array([np.nan] * len(X))\n",
    "        indices[tt] = 1\n",
    "        indices[tr] = 0\n",
    "\n",
    "        # Visualize the results\n",
    "        ax.scatter([n_splits - ii - 1] * len(indices), range(len(indices)),\n",
    "                   c=indices, marker='_', lw=lw, cmap=cmap_cv,\n",
    "                   vmin=-.2, vmax=1.2, s=s)\n",
    "\n",
    "    # Plot the data classes and groups at the end\n",
    "    ax.scatter([-1] * len(X), range(len(X)), \n",
    "               c=y, marker='_', lw=lw, cmap=cmap_data, s=s)\n",
    "    yticklabels = ['class'] + list(range(1, n_splits + 1))\n",
    "    \n",
    "    if show_groups:\n",
    "        ax.scatter([-2] * len(X), range(len(X)), \n",
    "                   c=group, marker='_', lw=lw, cmap=cmap_data, s=s)\n",
    "        yticklabels.insert(0, 'group')\n",
    "\n",
    "    # Formatting\n",
    "    ax.set(xticks=np.arange(-1 - show_groups, n_splits), xticklabels=yticklabels,\n",
    "            ylabel='Sample index', xlabel=\"CV iteration\",\n",
    "            xlim=[-1.5 - show_groups, n_splits+.2], ylim=[-6, 100])\n",
    "    ax.set_title('{}'.format(type(cv).__name__), fontsize=15)\n",
    "    if legend:\n",
    "        ax.legend([Patch(color=cmap_cv(.8)), Patch(color=cmap_cv(.2))],\n",
    "                  ['Validation set', 'Training set'], loc=(1.02, .8))\n",
    "    ax.spines['top'].set_visible(False)\n",
    "    ax.spines['right'].set_visible(False)\n",
    "    ax.spines['left'].set_visible(False)\n",
    "    ax.spines['bottom'].set_visible(False)\n",
    "    ax.set_yticks(())\n",
    "    return ax\n",
    "\n"
   ]
  },
  {
   "cell_type": "code",
   "execution_count": null,
   "metadata": {},
   "outputs": [],
   "source": [
    "def plot_2d_classification(classifier, X, fill=False, ax=None, eps=None, alpha=1):                                       \n",
    "    # multiclass                                                                                                                 \n",
    "    if eps is None:                                                                                                              \n",
    "        eps = X.std() / 2.                                                                                                       \n",
    "\n",
    "    if ax is None:                                                                                                               \n",
    "        ax = plt.gca()                                                                                                           \n",
    "\n",
    "    x_min, x_max = X[:, 0].min() - eps, X[:, 0].max() + eps                                                                      \n",
    "    y_min, y_max = X[:, 1].min() - eps, X[:, 1].max() + eps                                                                      \n",
    "    xx = np.linspace(x_min, x_max, 100)                                                                                         \n",
    "    yy = np.linspace(y_min, y_max, 100)                                                                                         \n",
    "\n",
    "    X1, X2 = np.meshgrid(xx, yy)                                                                                                 \n",
    "    X_grid = np.c_[X1.ravel(), X2.ravel()]                                                                                       \n",
    "    decision_values = classifier.predict(X_grid)                                                                                 \n",
    "    ax.imshow(decision_values.reshape(X1.shape), extent=(x_min, x_max,                                                           \n",
    "                                                       y_min, y_max),                                                          \n",
    "            aspect='auto', origin='lower', alpha=alpha, cmap='coolwarm')                                                               \n",
    "    ax.set_xlim(x_min, x_max)                                                                                                    \n",
    "    ax.set_ylim(y_min, y_max)                                                                                                    \n",
    "    ax.set_xticks(())                                                                                                            \n",
    "    ax.set_yticks(())  "
   ]
  },
  {
   "cell_type": "code",
   "execution_count": null,
   "metadata": {},
   "outputs": [],
   "source": [
    "from sklearn.neighbors import KNeighborsClassifier\n",
    "from sklearn.datasets import make_blobs\n",
    "\n",
    "X, y = make_blobs(centers=2, cluster_std=2, random_state=0, n_samples=50)\n",
    "fig, axes = plt.subplots(2, 2, figsize=(8, 8))\n",
    "for ax, n_neighbors in zip(axes.ravel(), [1, 5, 10, 30]):\n",
    "    ax.set_title(f\"n_neighbors={n_neighbors}\")\n",
    "    clf = KNeighborsClassifier(n_neighbors=n_neighbors).fit(X, y)\n",
    "    ax.scatter(X[:, 0], X[:, 1], c=y, edgecolor='k', cmap='coolwarm')\n",
    "    plot_2d_classification(clf, X, ax=ax, alpha=.5)\n",
    "    ax.set_aspect(\"equal\")\n",
    "# fig.savefig(\"images/knn_boundary_n_neighbors.png\", bbox_inches='tight')"
   ]
  },
  {
   "cell_type": "code",
   "execution_count": null,
   "metadata": {},
   "outputs": [],
   "source": [
    "from sklearn.model_selection import train_test_split\n",
    "\n",
    "neighbors = range(1, 30, 2)\n",
    "\n",
    "training_scores = []\n",
    "valid_scores = []\n",
    "X_train, X_valid, y_train, y_valid = train_test_split(X, y, random_state=13)\n",
    "\n",
    "for n_neighbors in neighbors:\n",
    "    knn = KNeighborsClassifier(n_neighbors=n_neighbors).fit(X_train, y_train)\n",
    "    training_scores.append(knn.score(X_train, y_train))\n",
    "    valid_scores.append(knn.score(X_valid, y_valid))"
   ]
  },
  {
   "cell_type": "code",
   "execution_count": null,
   "metadata": {},
   "outputs": [],
   "source": [
    "plt.figure()\n",
    "plt.plot(neighbors, training_scores, label=\"training scores\")\n",
    "plt.plot(neighbors, valid_scores, label=\"validation scores\")\n",
    "plt.ylabel(\"accuracy\")\n",
    "plt.xlabel(\"n_neighbors\")\n",
    "plt.legend()\n",
    "# plt.savefig(\"images/knn_model_complexity.png\", bbox_inches='tight')"
   ]
  },
  {
   "cell_type": "code",
   "execution_count": null,
   "metadata": {},
   "outputs": [],
   "source": [
    "line = np.linspace(0, 8, 100)\n",
    "train = 1./(1 + np.exp(-line))\n",
    "plt.plot(train, label='training accuracy')\n",
    "gen_true = - (line/ 10) ** 2 + (line/10 - .5) ** 3 + 1\n",
    "gen_true = train - (line/15) ** 2 - .2\n",
    "plt.plot(gen_true, label=\"generalization\")\n",
    "plt.ylabel(\"Accuracy\")\n",
    "plt.xlabel(\"Model Complexity\")\n",
    "plt.legend()\n",
    "# plt.savefig(\"images/overfitting_validation_set_1.svg\")"
   ]
  },
  {
   "cell_type": "code",
   "execution_count": null,
   "metadata": {},
   "outputs": [],
   "source": [
    "rng = np.random.RandomState(24)\n",
    "plt.plot(train, label='training accuracy')\n",
    "plt.plot(gen_true, label=\"generalization\")\n",
    "validation_set = gen_true + rng.normal(scale=.04, size=100)\n",
    "plt.plot(validation_set, label=\"validation set\")\n",
    "plt.ylabel(\"Accuracy\")\n",
    "plt.xlabel(\"Model Complexity\")\n",
    "plt.legend()\n",
    "# plt.savefig(\"images/overfitting_validation_set_2.svg\")"
   ]
  },
  {
   "cell_type": "code",
   "execution_count": null,
   "metadata": {},
   "outputs": [],
   "source": [
    "import pandas as pd\n",
    "from sklearn import datasets\n",
    "import matplotlib.pyplot as plt\n",
    "from scipy.stats import randint\n",
    "import numpy as np\n",
    "\n",
    "from sklearn.experimental import enable_halving_search_cv  # noqa\n",
    "from sklearn.model_selection import HalvingRandomSearchCV\n",
    "from sklearn.ensemble import RandomForestClassifier"
   ]
  },
  {
   "cell_type": "code",
   "execution_count": null,
   "metadata": {},
   "outputs": [],
   "source": [
    "rng = np.random.RandomState(0)\n",
    "\n",
    "X, y = datasets.make_classification(n_samples=700, random_state=rng)\n",
    "\n",
    "clf = RandomForestClassifier(n_estimators=20, random_state=rng)\n",
    "\n",
    "param_dist = {\n",
    "    \"max_depth\": [3, None],\n",
    "    \"max_features\": randint(1, 11),\n",
    "    \"min_samples_split\": randint(2, 11),\n",
    "    \"bootstrap\": [True, False],\n",
    "    \"criterion\": [\"gini\", \"entropy\"],\n",
    "}\n",
    "\n",
    "rsh = HalvingRandomSearchCV(\n",
    "    estimator=clf, param_distributions=param_dist, factor=2, random_state=rng,\n",
    "    n_jobs=8\n",
    ")\n",
    "rsh.fit(X, y)"
   ]
  },
  {
   "cell_type": "code",
   "execution_count": null,
   "metadata": {},
   "outputs": [],
   "source": [
    "mean_scores.iloc[:, mean_scores.loc[5].argmax()]"
   ]
  },
  {
   "cell_type": "code",
   "execution_count": null,
   "metadata": {},
   "outputs": [],
   "source": [
    "results = pd.DataFrame(rsh.cv_results_)\n",
    "results[\"params_str\"] = results.params.apply(str)\n",
    "results.drop_duplicates(subset=(\"params_str\", \"iter\"), inplace=True)\n",
    "mean_scores = results.pivot(\n",
    "    index=\"iter\", columns=\"params_str\", values=\"mean_test_score\"\n",
    ")\n",
    "fig, ax = plt.subplots(figsize=(12, 8))\n",
    "mean_scores.plot(legend=False, alpha=0.8, lw=1, ax=ax)\n",
    "mean_scores.iloc[:, mean_scores.loc[5].argmax()].plot(legend=False, alpha=1, lw=5, ax=ax, color=\"red\")\n",
    "\n",
    "labels = [\n",
    "    f\"iter={i}\\nn_samples={rsh.n_resources_[i]}\\nn_candidates={rsh.n_candidates_[i]}\"\n",
    "    for i in range(rsh.n_iterations_)\n",
    "]\n",
    "\n",
    "ax.set_xticks(range(rsh.n_iterations_))\n",
    "ax.set_xticklabels(labels, rotation=45, multialignment=\"left\")\n",
    "ax.set_title(\"Scores of candidates over iterations\")\n",
    "ax.set_ylim((0.77, 0.97))\n",
    "ax.set_ylabel(\"mean test score\", fontsize=15)\n",
    "ax.set_xlabel(\"iterations\", fontsize=15)\n",
    "plt.tight_layout()\n",
    "# plt.show()\n",
    "plt.savefig(\"images/halvingcv.svg\")"
   ]
  },
  {
   "cell_type": "code",
   "execution_count": null,
   "metadata": {},
   "outputs": [],
   "source": []
  },
  {
   "cell_type": "code",
   "execution_count": null,
   "metadata": {},
   "outputs": [],
   "source": []
  },
  {
   "cell_type": "code",
   "execution_count": null,
   "metadata": {},
   "outputs": [],
   "source": [
    "from sklearn.datasets import load_iris\n",
    "from sklearn.utils import shuffle\n",
    "iris = load_iris()\n",
    "\n",
    "X, y = iris.data, iris.target\n",
    "X, y = shuffle(X, y)"
   ]
  },
  {
   "cell_type": "code",
   "execution_count": null,
   "metadata": {},
   "outputs": [],
   "source": [
    "# some values missing only\n",
    "rng = np.random.RandomState(0)\n",
    "X_some_missing = X.copy()\n",
    "mask = np.abs(X[:, 2] - rng.normal(loc=5.5, scale=.7, size=X.shape[0])) < .6\n",
    "X_some_missing[mask, 3] = np.NaN\n",
    "# different random numbers\n",
    "mask2 = np.abs(X[:, 2] - rng.normal(loc=5.5, scale=.7, size=X.shape[0])) < .6\n",
    "X_some_missing[mask2, 2] = np.NaN\n",
    "X_some_missing[:30]"
   ]
  },
  {
   "cell_type": "code",
   "execution_count": null,
   "metadata": {},
   "outputs": [],
   "source": [
    "# from now on use X_ = X_some_missing\n",
    "X_ = X_some_missing\n",
    "from sklearn.linear_model import LogisticRegression\n",
    "from sklearn.model_selection import train_test_split, cross_val_score\n",
    "X_train, X_test, y_train, y_test = train_test_split(X_, y, stratify=y, random_state=0)"
   ]
  },
  {
   "cell_type": "code",
   "execution_count": null,
   "metadata": {},
   "outputs": [],
   "source": []
  },
  {
   "cell_type": "code",
   "execution_count": null,
   "metadata": {},
   "outputs": [],
   "source": [
    "X_df = pd.DataFrame(X_, columns=iris.feature_names)"
   ]
  },
  {
   "cell_type": "code",
   "execution_count": null,
   "metadata": {},
   "outputs": [],
   "source": [
    "X_df['target'] = y"
   ]
  },
  {
   "cell_type": "code",
   "execution_count": null,
   "metadata": {},
   "outputs": [],
   "source": [
    "X_df"
   ]
  },
  {
   "cell_type": "code",
   "execution_count": null,
   "metadata": {},
   "outputs": [],
   "source": [
    "X_df.to_csv(\"data/iris_w_missing.csv\", index=False)"
   ]
  },
  {
   "cell_type": "code",
   "execution_count": null,
   "metadata": {},
   "outputs": [],
   "source": [
    "from sklearn.impute import SimpleImputer\n",
    "imp = SimpleImputer(strategy=\"median\").fit(X_train)\n",
    "X_median_imp = imp.transform(X_train)\n",
    "X_median_imp[-30:]"
   ]
  },
  {
   "cell_type": "code",
   "execution_count": null,
   "metadata": {},
   "outputs": [],
   "source": [
    "import matplotlib.patches as patches\n",
    "imputed_mask = np.any(np.isnan(X_train), axis=1)\n",
    "\n",
    "def plot_imputation(X_imp, title=None, ax=None):\n",
    "    if ax is None:\n",
    "        ax = plt.gca()\n",
    "    if title is not None:\n",
    "        ax.set_title(title)\n",
    "    ax.scatter(X_imp[imputed_mask, 2], X_imp[imputed_mask, 3], c=plt.cm.tab10(y_train[imputed_mask]), alpha=.6, marker=\"s\")\n",
    "    ax.scatter(X_imp[~imputed_mask, 2], X_imp[~imputed_mask, 3], c=plt.cm.tab10(y_train[~imputed_mask]), alpha=.6)\n",
    "    \n",
    "    square = plt.Line2D((0,), (0,), linestyle='', marker=\"s\", markerfacecolor=\"w\", markeredgecolor=\"k\", label='Imputed data')\n",
    "    circle = plt.Line2D((0,), (0,), linestyle='', marker=\"o\", markerfacecolor=\"w\", markeredgecolor=\"k\", label='Real data')\n",
    "    ax.set_xlabel(iris.feature_names[2])\n",
    "    ax.set_ylabel(iris.feature_names[3])\n",
    "\n",
    "    plt.legend(handles=[square, circle], numpoints=1, loc=\"best\")"
   ]
  },
  {
   "cell_type": "code",
   "execution_count": null,
   "metadata": {},
   "outputs": [],
   "source": [
    "from sklearn.impute import KNNImputer\n",
    "\n",
    "knnimp = KNNImputer().fit(X_train)\n",
    "X_train_knn = knnimp.transform(X_train)"
   ]
  },
  {
   "cell_type": "code",
   "execution_count": null,
   "metadata": {},
   "outputs": [],
   "source": [
    "from sklearn.ensemble import RandomForestRegressor\n",
    "from sklearn.experimental import enable_iterative_imputer\n",
    "from sklearn.impute import IterativeImputer\n",
    "\n",
    "rfimp = IterativeImputer(estimator=RandomForestRegressor())\n",
    "rfimp.fit(X_train)\n",
    "X_rf_imp = rfimp.transform(X_train)\n",
    "\n"
   ]
  },
  {
   "cell_type": "code",
   "execution_count": null,
   "metadata": {},
   "outputs": [],
   "source": [
    "fig, axes = plt.subplots(1, 3, figsize=(16, 6), constrained_layout=True)\n",
    "plot_imputation(X_median_imp, \"Median\", ax=axes[0])\n",
    "plot_imputation(X_train_knn, \"KNN\", ax=axes[1])\n",
    "plot_imputation(X_rf_imp, \"Random Forest imputation\", ax=axes[2])\n",
    "plt.savefig(\"images/med_knn_rf_comparison.png\")"
   ]
  },
  {
   "cell_type": "code",
   "execution_count": null,
   "metadata": {},
   "outputs": [],
   "source": [
    "import pandas as pd"
   ]
  },
  {
   "cell_type": "code",
   "execution_count": null,
   "metadata": {},
   "outputs": [],
   "source": [
    "approval = pd.read_csv(\"data/approval_topline.csv\", parse_dates=['timestamp'], index_col='timestamp')"
   ]
  },
  {
   "cell_type": "code",
   "execution_count": null,
   "metadata": {},
   "outputs": [],
   "source": [
    "approval_est = approval.loc[approval['subgroup'] == \"Adults\", [\"approve_estimate\"]]"
   ]
  },
  {
   "cell_type": "code",
   "execution_count": null,
   "metadata": {},
   "outputs": [],
   "source": [
    "approval_est.to_csv(\"data/approval_processed.csv\")"
   ]
  },
  {
   "cell_type": "code",
   "execution_count": null,
   "metadata": {},
   "outputs": [],
   "source": [
    "fig, ax = plt.subplots(figsize=(10, 6))\n",
    "approval_est.plot(ax=ax)\n",
    "ax.set_title(\"Approval Ratings\")\n",
    "fig.savefig(\"images/approval_ratings.png\")"
   ]
  },
  {
   "cell_type": "code",
   "execution_count": null,
   "metadata": {},
   "outputs": [],
   "source": [
    "from matplotlib.patches import Rectangle\n",
    "rng = np.random.RandomState(42)\n",
    "fig, ax = plt.subplots(figsize=(10, 6))\n",
    "approval_est.plot(ax=ax)\n",
    "xlim, ylim = ax.get_xlim(), ax.get_ylim()\n",
    "\n",
    "for i in range(20):\n",
    "    rect = Rectangle((rng.randint(xlim[0], xlim[1]), ylim[0]), 10,\n",
    "                     ylim[1]-ylim[0], facecolor='#FFAAAA', alpha=0.8)\n",
    "    ax.add_artist(rect)\n",
    "    \n",
    "# plt.title(\"Presidential approval estimates by fivethirtyeight\")\n",
    "plt.legend([rect], ['Random Validation Set'] )\n",
    "ax.set_xlabel(\"\")\n",
    "ax.set_title(\"Approval Ratings\")\n",
    "fig.savefig(\"images/approval_ratings_random.png\")"
   ]
  },
  {
   "cell_type": "code",
   "execution_count": null,
   "metadata": {},
   "outputs": [],
   "source": [
    "from matplotlib.patches import Rectangle\n",
    "\n",
    "rng = np.random.RandomState(42)\n",
    "approval_est.plot()\n",
    "\n",
    "ax = plt.gca()\n",
    "xlim, ylim = ax.get_xlim(), ax.get_ylim()\n",
    "rect = Rectangle((xlim[1] - 300, ylim[0]), 300, ylim[1]-ylim[0], facecolor='#FFAAAA', alpha=0.8)\n",
    "ax.add_artist(rect)\n",
    "\n",
    "plt.title(\"Approvael Ratings\")\n",
    "plt.legend([rect], ['Structured Validation Set'] )\n",
    "ax.set_xlabel(\"\")\n",
    "plt.savefig(\"images/approval_ratings_structured.png\")"
   ]
  }
 ],
 "metadata": {
  "kernelspec": {
   "display_name": "Python 3 (ipykernel)",
   "language": "python",
   "name": "python3"
  },
  "language_info": {
   "codemirror_mode": {
    "name": "ipython",
    "version": 3
   },
   "file_extension": ".py",
   "mimetype": "text/x-python",
   "name": "python",
   "nbconvert_exporter": "python",
   "pygments_lexer": "ipython3",
   "version": "3.9.7"
  }
 },
 "nbformat": 4,
 "nbformat_minor": 4
}
